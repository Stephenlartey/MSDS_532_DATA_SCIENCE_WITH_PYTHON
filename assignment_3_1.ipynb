{
 "cells": [
  {
   "cell_type": "code",
   "execution_count": 1,
   "id": "5cab3a7b",
   "metadata": {},
   "outputs": [
    {
     "data": {
      "text/plain": [
       "'\\nMSDS 532 (DATA SCIENCE PROGRAMING WITH PYTHON-FALL 2023 1ST BI-TERM)\\nWEEK 4 ASSIGNMENT- PROBLEM SET 3- TASK 1\\nTITLE: WORKING WITH CHICKEN NUGGETS\\nDATE: FRIDAY, SEPTEMBER 22, 2023\\nSTUDENT/AUTHOR: STEPHEN SARPONG LARTEY\\nSTUDENT ID: 005015848\\nCOURSE INSTRUCTOR: DR. ARNETT CAMPBELL\\n'"
      ]
     },
     "execution_count": 1,
     "metadata": {},
     "output_type": "execute_result"
    }
   ],
   "source": [
    "\"\"\"\n",
    "MSDS 532 (DATA SCIENCE PROGRAMING WITH PYTHON-FALL 2023 1ST BI-TERM)\n",
    "WEEK 4 ASSIGNMENT- PROBLEM SET 3- TASK 1\n",
    "TITLE: WORKING WITH CHICKEN NUGGETS\n",
    "DATE: FRIDAY, SEPTEMBER 22, 2023\n",
    "STUDENT/AUTHOR: STEPHEN SARPONG LARTEY\n",
    "STUDENT ID: 005015848\n",
    "COURSE INSTRUCTOR: DR. ARNETT CAMPBELL\n",
    "\"\"\""
   ]
  },
  {
   "cell_type": "code",
   "execution_count": 2,
   "id": "03ec99c3",
   "metadata": {},
   "outputs": [],
   "source": [
    "def find_nugget_combinations(quantity):\n",
    "    # Create an empty list to store valid combinations\n",
    "    combinations = []\n",
    "    \n",
    "    # Iterate through possible quantities of each box size\n",
    "    for six_count in range(quantity // 6 + 1):\n",
    "        for nine_count in range(quantity // 9 + 1):\n",
    "            for twenty_two_count in range(quantity // 22 + 1):\n",
    "                # Calculate the total number of nuggets for the current combination\n",
    "                total_nuggets = 6 * six_count + 9 * nine_count + 22 * twenty_two_count\n",
    "                \n",
    "                # Check if the total matches the requested quantity\n",
    "                if total_nuggets == quantity:\n",
    "                    # If a valid combination is found, create a dictionary to store it\n",
    "                    combination = {\n",
    "                        'Six_piece': six_count,\n",
    "                        'Nine_piece': nine_count,\n",
    "                        'Twenty_two_piece': twenty_two_count\n",
    "                    }\n",
    "                    # Add the valid combination to the list\n",
    "                    combinations.append(combination)\n",
    "    \n",
    "    return combinations"
   ]
  },
  {
   "cell_type": "code",
   "execution_count": 3,
   "id": "4d2a20f3",
   "metadata": {},
   "outputs": [
    {
     "name": "stdout",
     "output_type": "stream",
     "text": [
      "How many chicken nuggets would you like to order? 52\n",
      "For an order size of 52, choose from the following 2 option(s):\n",
      "{'Six_piece': 2, 'Nine_piece': 2, 'Twenty_two_piece': 1}\n",
      "{'Six_piece': 5, 'Nine_piece': 0, 'Twenty_two_piece': 1}\n"
     ]
    }
   ],
   "source": [
    "def main():\n",
    "    # Get the quantity of chicken nuggets requested by the user\n",
    "    quantity = int(input(\"How many chicken nuggets would you like to order? \"))\n",
    "    \n",
    "    # Call the function to find valid nugget combinations\n",
    "    nugget_combinations = find_nugget_combinations(quantity)\n",
    "    \n",
    "    # Check if valid combinations were found\n",
    "    if nugget_combinations:\n",
    "        print(f\"For an order size of {quantity}, choose from the following {len(nugget_combinations)} option(s):\")\n",
    "        # Print each valid combination\n",
    "        for combination in nugget_combinations:\n",
    "            print(combination)\n",
    "    else:\n",
    "        # Inform the user that no valid combinations are possible\n",
    "        print(f\"Sorry, you cannot order {quantity} chicken nuggets with the available box sizes.\")\n",
    "\n",
    "if __name__ == \"__main__\":\n",
    "    main()"
   ]
  },
  {
   "cell_type": "code",
   "execution_count": null,
   "id": "69aae1e1",
   "metadata": {},
   "outputs": [],
   "source": []
  }
 ],
 "metadata": {
  "kernelspec": {
   "display_name": "Python 3 (ipykernel)",
   "language": "python",
   "name": "python3"
  },
  "language_info": {
   "codemirror_mode": {
    "name": "ipython",
    "version": 3
   },
   "file_extension": ".py",
   "mimetype": "text/x-python",
   "name": "python",
   "nbconvert_exporter": "python",
   "pygments_lexer": "ipython3",
   "version": "3.10.9"
  }
 },
 "nbformat": 4,
 "nbformat_minor": 5
}
