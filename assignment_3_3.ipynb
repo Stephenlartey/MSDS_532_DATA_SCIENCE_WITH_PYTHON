{
 "cells": [
  {
   "cell_type": "code",
   "execution_count": 1,
   "id": "7c6e0fee",
   "metadata": {},
   "outputs": [],
   "source": [
    "# MSDS 532 (DATA SCIENCE PROGRAMING WITH PYTHON-FALL 2023 1ST BI-TERM)\n",
    "# WEEK 4 ASSIGNMENT- PROBLEM SET 3- TASK 3\n",
    "# TITLE: PROVIDING NEAREST FEASIBLE ALTERNATIVE COMBINATION OF CHICKEN NUGGETS\n",
    "# DATE: FRIDAY, SEPTEMBER 22, 2023\n",
    "# STUDENT/AUTHOR: STEPHEN SARPONG LARTEY\n",
    "# STUDENT ID: 005015848\n",
    "# COURSE INSTRUCTOR: DR. ARNETT CAMPBELL"
   ]
  },
  {
   "cell_type": "code",
   "execution_count": 2,
   "id": "636a89b2",
   "metadata": {},
   "outputs": [],
   "source": [
    "def is_feasible_quantity(quantity, box_sizes):\n",
    "    # Recursive function to check if a quantity is feasible using available box sizes\n",
    "    if quantity == 0:\n",
    "        return True\n",
    "    if quantity < 0:\n",
    "        return False\n",
    "    \n",
    "    # Try each box size to see if it leads to a feasible quantity\n",
    "    for box_size in box_sizes:\n",
    "        if is_feasible_quantity(quantity - box_size, box_sizes):\n",
    "            return True\n",
    "    \n",
    "    return False"
   ]
  },
  {
   "cell_type": "code",
   "execution_count": 3,
   "id": "d8afa688",
   "metadata": {},
   "outputs": [],
   "source": [
    "def find_lowest_cost_option(quantity):\n",
    "    # Define the available box sizes and their respective costs\n",
    "    box_sizes = [6, 9, 22]\n",
    "    costs = [3, 4, 9]  # Costs associated with 6-piece, 9-piece, and 22-piece options\n",
    "    \n",
    "    # Initialize variables for the lowest cost option\n",
    "    lowest_cost = float('inf')  # Initialize with positive infinity\n",
    "    lowest_option = None\n",
    "    \n",
    "    # Iterate through possible quantities of each box size\n",
    "    for six_count in range(quantity // 6 + 1):\n",
    "        for nine_count in range(quantity // 9 + 1):\n",
    "            for twenty_two_count in range(quantity // 22 + 1):\n",
    "                # Calculate the total number of nuggets for the current combination\n",
    "                total_nuggets = 6 * six_count + 9 * nine_count + 22 * twenty_two_count\n",
    "                \n",
    "                # Check if the total matches the requested quantity\n",
    "                if total_nuggets == quantity:\n",
    "                    # Calculate the cost for the current combination\n",
    "                    total_cost = 3 * six_count + 4 * nine_count + 9 * twenty_two_count\n",
    "                    # Check if the current combination has a lower cost\n",
    "                    if total_cost < lowest_cost:\n",
    "                        lowest_cost = total_cost\n",
    "                        lowest_option = {\n",
    "                            'Six_piece': six_count,\n",
    "                            'Nine_piece': nine_count,\n",
    "                            'Twenty_two_piece': twenty_two_count\n",
    "                        }\n",
    "    \n",
    "    return lowest_option, lowest_cost"
   ]
  },
  {
   "cell_type": "code",
   "execution_count": 4,
   "id": "3ffdf65e",
   "metadata": {},
   "outputs": [],
   "source": [
    "def find_nearest_feasible_quantity(quantity):\n",
    "    # Define the available box sizes\n",
    "    box_sizes = [6, 9, 22]\n",
    "    \n",
    "    # Initialize the nearest feasible quantity to None\n",
    "    nearest_feasible_quantity = None\n",
    "    \n",
    "    # Iterate from the requested quantity down to 0\n",
    "    for i in range(quantity, -1, -1):\n",
    "        # Check if the current quantity is feasible using available box sizes\n",
    "        if is_feasible_quantity(i, box_sizes):\n",
    "            nearest_feasible_quantity = i\n",
    "            break  # Stop iterating when the nearest feasible quantity is found\n",
    "    \n",
    "    return nearest_feasible_quantity"
   ]
  },
  {
   "cell_type": "code",
   "execution_count": 9,
   "id": "bdc52a88",
   "metadata": {},
   "outputs": [
    {
     "name": "stdout",
     "output_type": "stream",
     "text": [
      "How many chicken nuggets would you like to order? 23\n",
      "Sorry, your requested quantity is not feasible. Consider ordering 22 nuggets.\n",
      "For an order size of 22, the lowest cost option is:\n",
      "{'Six_piece': 0, 'Nine_piece': 0, 'Twenty_two_piece': 1}\n",
      "Total Cost: $9\n"
     ]
    }
   ],
   "source": [
    "def main():\n",
    "    # Get the quantity of chicken nuggets requested by the user\n",
    "    quantity = int(input(\"How many chicken nuggets would you like to order? \"))\n",
    "    \n",
    "    # Find the lowest cost option and cost\n",
    "    lowest_option, lowest_cost = find_lowest_cost_option(quantity)\n",
    "    \n",
    "    if lowest_option is not None:\n",
    "        print(f\"For an order size of {quantity}, the lowest cost option is:\")\n",
    "        print(lowest_option)\n",
    "        print(f\"Total Cost: ${lowest_cost}\")\n",
    "    else:\n",
    "        # If no feasible quantity is found, suggest a different quantity\n",
    "        nearest_feasible_quantity = find_nearest_feasible_quantity(quantity)\n",
    "        if nearest_feasible_quantity is not None:\n",
    "            print(f\"Sorry, your requested quantity is not feasible. Consider ordering {nearest_feasible_quantity} nuggets.\")\n",
    "            print(f\"For an order size of {nearest_feasible_quantity}, the lowest cost option is:\")\n",
    "            nearest_option, nearest_cost = find_lowest_cost_option(nearest_feasible_quantity)\n",
    "            print(nearest_option)\n",
    "            print(f\"Total Cost: ${nearest_cost}\")\n",
    "        else:\n",
    "            # If no feasible quantity is found, inform the user\n",
    "            print(f\"Sorry, there are no feasible order quantities with the available box sizes.\")\n",
    "\n",
    "if __name__ == \"__main__\":\n",
    "    main()"
   ]
  },
  {
   "cell_type": "code",
   "execution_count": null,
   "id": "6eb2889b",
   "metadata": {},
   "outputs": [],
   "source": []
  }
 ],
 "metadata": {
  "kernelspec": {
   "display_name": "Python 3 (ipykernel)",
   "language": "python",
   "name": "python3"
  },
  "language_info": {
   "codemirror_mode": {
    "name": "ipython",
    "version": 3
   },
   "file_extension": ".py",
   "mimetype": "text/x-python",
   "name": "python",
   "nbconvert_exporter": "python",
   "pygments_lexer": "ipython3",
   "version": "3.10.9"
  }
 },
 "nbformat": 4,
 "nbformat_minor": 5
}
